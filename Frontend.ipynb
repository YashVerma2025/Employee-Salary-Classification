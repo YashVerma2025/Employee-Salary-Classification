{
 "cells": [
  {
   "cell_type": "code",
   "execution_count": 29,
   "id": "87442d5e-8558-4c87-ba8a-e618026f08d9",
   "metadata": {},
   "outputs": [
    {
     "name": "stdout",
     "output_type": "stream",
     "text": [
      "Overwriting app3.py\n"
     ]
    }
   ],
   "source": [
    "%%writefile app3.py\n",
    "import pandas as pd\n",
    "import streamlit as st\n",
    "import pickle\n",
    "import numpy as np\n",
    "from PIL import Image\n",
    "#load the trained model\n",
    "pipe = pickle.load(open('pipe.pkl', 'rb'))\n",
    "\n",
    "st.set_page_config(page_title = 'Employee Salary Classification', page_icon = '🏦', layout = 'centered' )\n",
    "st.title('🏦 Employee Salary Classification')\n",
    "image = Image.open(r\"C:\\Users\\eryas\\Desktop\\salary-image.webp\") \n",
    "resized_image = image.resize((1000, 250))\n",
    "st.image(resized_image)\n",
    "st.markdown('Predict whether an employee earns >50k or <=50k based on input features')\n",
    "\n",
    "# sidebar inputs(these must match your training feature columns)\n",
    "st.sidebar.header('Provide Employee Details')\n",
    "\n",
    "# replace these fields with your datasets actual input column\n",
    "age = st.sidebar.slider('Age', 17, 75)\n",
    "workclass = st.sidebar.selectbox('Workclass', ['Private', 'Self-emp-not-inc', 'Local-gov', 'State-gov', 'Self-emp-inc', 'Federal-gov'])\n",
    "education = st.sidebar.selectbox('Education', ['HS-grad', 'Some-collage', 'Bachelors', 'Masters', 'Assoc-voc', '11th', 'Assoc-acdm', '10th', '7th-8th', 'Prof-school', '9th', '12th', 'Doctorate'])\n",
    "marital_status = st.sidebar.selectbox('Marital_status', ['Married-civ-spouse', 'Never-married', 'Divorced', 'separated', 'widowed', 'Married-spouse-absent'])\n",
    "occupation = st.sidebar.selectbox('Occupation', ['Prof-specialty', 'Exec-managerial', 'Craft-repair', 'Adm-clerical', 'Sales', 'Other-service', 'Machine-op-inspct', 'Transport-moving', 'Handlers-cleaners', 'Tech-support', 'Farming-fishing', 'Protective-serv', 'Priv-house-serve', 'Armed-Forces'])\n",
    "relationship = st.sidebar.selectbox('Relationship', ['Husband', 'Not-in-family', 'Own-child', 'Unmarried', 'Wife', 'Other-relative'])\n",
    "race = st.sidebar.selectbox('Race', ['White', 'Black', 'Asian-Pac-Islander', 'Amer-Indian-Eskimo', 'Other'])\n",
    "gender = st.sidebar.radio('Gender', ['Male', 'Female'])\n",
    "hours_per_week = st.sidebar.number_input('Hours_per_week', min_value=20, max_value=60, step=2)\n",
    "native_country = st.sidebar.selectbox('Native_country', ['United-states', 'Mexico', 'Philippines', 'Germany', 'Puerto-Rico', 'Canada', 'India', 'Cuba', 'England', 'China', 'Jamaica', 'El-Salvador', 'Dominican-Republic', 'Italy', 'Japan', 'Poland', 'South', 'Vietnam', 'Columbia', 'Guatemala', 'Haiti', 'Portugal', 'Taiwan', 'Iran', 'Peru', 'Nicaragua', 'Ireland', 'France', 'Greece', 'Hong', 'Cambodia', 'Ecuador', 'Trinadad&Tobago', 'Thailand', 'Outlying-US(Guam-USVI-etc)', 'Laos', 'Scotland', 'Yugoslavia'])\n",
    "\n",
    "#input data frame\n",
    "input_df = pd.DataFrame(\n",
    "    {\n",
    "        'age':[age],\n",
    "        'workclass':[workclass],\n",
    "        'education':[education],\n",
    "        'marital_status':[marital_status],\n",
    "        'occupation':[occupation],\n",
    "        'relationship':[relationship],\n",
    "        'race':[race],\n",
    "        'gender':[gender],\n",
    "        'hours_per_week':[hours_per_week],\n",
    "        'native_country':[native_country]\n",
    "    }\n",
    ")\n",
    "\n",
    "\n",
    "tab_titles = ['Individual Prediction', 'Multiple Prediction']\n",
    "tabs = st.tabs(tab_titles)\n",
    "with tabs[0]:\n",
    "    st.write('### Provided Data')\n",
    "    st.write(input_df)\n",
    "\n",
    "    #predict button\n",
    "    if st.button(\"Predict Individual Salary Class\") :\n",
    "        prediction = pipe.predict(input_df)\n",
    "        st.success(f\"Predicted Salary Class: {prediction[0]}\")\n",
    "with tabs[1]:\n",
    "    #Batch prediction\n",
    "    st.markdown('---')\n",
    "    st.markdown('#### Batch Prediction')\n",
    "    st.markdown('###### NOTE: Order of columns in csv file should be same as individual prediction and having categories among given')\n",
    "    uploaded_file = st.file_uploader('Upload a CSV file for batch prediction', type = 'csv')\n",
    "\n",
    "    if uploaded_file is not None :\n",
    "        batch_data = pd.read_csv(uploaded_file)\n",
    "        st.write('uploaded data preview', batch_data.head())\n",
    "        if st.button(\"Predict Batch Salary Class\") :\n",
    "            batch_preds = pipe.predict(batch_data)\n",
    "            batch_data['Predictedclass'] = batch_preds\n",
    "            st.write('Predictions :')\n",
    "            st.write(batch_data.head())\n",
    "            csv = batch_data.to_csv(index = False).encode('utf-8')\n",
    "            st.download_button('Download Predictions CSV', csv, 'Batch_Prediction.csv')"
   ]
  },
  {
   "cell_type": "code",
   "execution_count": 2,
   "id": "6b65a883-62bd-4eee-a7cd-a0f01ca3d385",
   "metadata": {},
   "outputs": [
    {
     "name": "stdout",
     "output_type": "stream",
     "text": [
      "NgrokTunnel: \"https://f82f44dcf936.ngrok-free.app\" -> \"http://localhost:8501\"\n"
     ]
    }
   ],
   "source": [
    "import os\n",
    "import threading\n",
    "from pyngrok import ngrok\n",
    "\n",
    "ngrok.set_auth_token('30S8OKORey71QdLdt5x1OtKukA2_77wyZvJkoJGSPADMGi29L')\n",
    "\n",
    "def run_streamlit() :\n",
    "    os.system('streamlit run app3.py --server.port 8501')\n",
    "\n",
    "thread = threading.Thread(target=run_streamlit)\n",
    "thread.start()\n",
    "url = ngrok.connect(8501)\n",
    "print(url)"
   ]
  },
  {
   "cell_type": "code",
   "execution_count": null,
   "id": "79345cce-7177-440e-8c24-d152f495c0c4",
   "metadata": {},
   "outputs": [],
   "source": []
  }
 ],
 "metadata": {
  "kernelspec": {
   "display_name": "Python [conda env:base] *",
   "language": "python",
   "name": "conda-base-py"
  },
  "language_info": {
   "codemirror_mode": {
    "name": "ipython",
    "version": 3
   },
   "file_extension": ".py",
   "mimetype": "text/x-python",
   "name": "python",
   "nbconvert_exporter": "python",
   "pygments_lexer": "ipython3",
   "version": "3.13.5"
  }
 },
 "nbformat": 4,
 "nbformat_minor": 5
}
